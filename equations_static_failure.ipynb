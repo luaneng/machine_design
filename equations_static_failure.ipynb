{
 "cells": [
  {
   "cell_type": "markdown",
   "id": "8f7f4f22",
   "metadata": {},
   "source": [
    "Equations"
   ]
  },
  {
   "cell_type": "code",
   "execution_count": null,
   "id": "7f47d218",
   "metadata": {},
   "outputs": [],
   "source": [
    "imor"
   ]
  }
 ],
 "metadata": {
  "kernelspec": {
   "display_name": "Python 3 (ipykernel)",
   "language": "python",
   "name": "python3"
  },
  "language_info": {
   "codemirror_mode": {
    "name": "ipython",
    "version": 3
   },
   "file_extension": ".py",
   "mimetype": "text/x-python",
   "name": "python",
   "nbconvert_exporter": "python",
   "pygments_lexer": "ipython3",
   "version": "3.9.7"
  }
 },
 "nbformat": 4,
 "nbformat_minor": 5
}

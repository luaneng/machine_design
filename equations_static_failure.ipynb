{
 "cells": [
  {
   "cell_type": "markdown",
   "id": "3ae7b74d",
   "metadata": {},
   "source": [
    "Equivalent Stress - Von Mises\n",
    "\n",
    "$$ \\sigma^{'} = \\sqrt{\\frac{(\\sigma_{x} - \\sigma_{y})^{2}+(\\sigma_{y} - \\sigma_{z})^{2}+(\\sigma_{z} - \\sigma_{x})^{2} + 6*( \\tau_{xy}^{2} + \\tau_{yz}^{2} + \\tau_{zx}^{2} )  }{2}} $$"
   ]
  },
  {
   "cell_type": "code",
   "execution_count": 4,
   "id": "6a59789f",
   "metadata": {},
   "outputs": [],
   "source": [
    "from numpy import *"
   ]
  },
  {
   "cell_type": "code",
   "execution_count": 7,
   "id": "39dc3253",
   "metadata": {},
   "outputs": [],
   "source": [
    "def equivalent_vm(𝜎x, 𝜎y, 𝜎z, 𝜏xy, 𝜏yz, 𝜏zx):\n",
    "    return sqrt( ( ( 𝜎x - 𝜎y )**2 + ( 𝜎y - 𝜎z )**2 + ( 𝜎z - 𝜎x )**2 + 6*( 𝜏xy**2 + 𝜏yz**2 + 𝜏zx**2 ) ) / 2 )"
   ]
  },
  {
   "cell_type": "markdown",
   "id": "e580935e",
   "metadata": {},
   "source": [
    "# ![Example 1](img/example_1.png)"
   ]
  },
  {
   "cell_type": "code",
   "execution_count": 11,
   "id": "950c05dc",
   "metadata": {},
   "outputs": [
    {
     "data": {
      "text/plain": [
       "58.3095"
      ]
     },
     "execution_count": 11,
     "metadata": {},
     "output_type": "execute_result"
    }
   ],
   "source": [
    "𝜎 = round(equivalent_vm(20, -40, 10, 10, 0, 0), 4)  #mPa\n",
    "𝜎"
   ]
  },
  {
   "cell_type": "markdown",
   "id": "e0a39085",
   "metadata": {},
   "source": [
    "$$ \\eta = \\frac{S_{y}}{\\sigma_{'}} $$"
   ]
  },
  {
   "cell_type": "code",
   "execution_count": 12,
   "id": "bb631264",
   "metadata": {},
   "outputs": [
    {
     "data": {
      "text/plain": [
       "1.29"
      ]
     },
     "execution_count": 12,
     "metadata": {},
     "output_type": "execute_result"
    }
   ],
   "source": [
    "𝜂 = round(75/𝜎, 2)\n",
    "𝜂"
   ]
  },
  {
   "cell_type": "code",
   "execution_count": null,
   "id": "f6b9db26",
   "metadata": {},
   "outputs": [],
   "source": []
  }
 ],
 "metadata": {
  "kernelspec": {
   "display_name": "Python 3 (ipykernel)",
   "language": "python",
   "name": "python3"
  },
  "language_info": {
   "codemirror_mode": {
    "name": "ipython",
    "version": 3
   },
   "file_extension": ".py",
   "mimetype": "text/x-python",
   "name": "python",
   "nbconvert_exporter": "python",
   "pygments_lexer": "ipython3",
   "version": "3.9.7"
  }
 },
 "nbformat": 4,
 "nbformat_minor": 5
}

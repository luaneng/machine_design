{
 "cells": [
  {
   "cell_type": "markdown",
   "id": "1475770d",
   "metadata": {},
   "source": [
    "Equivalent Stress - Von Mises\n",
    "\n",
    "$$ \\sigma^{'} = \\sqrt{\\frac{(\\sigma_{x} - \\sigma_{y})^{2}+(\\sigma_{y} - \\sigma_{z})^{2}+(\\sigma_{z} - \\sigma_{x})^{2} + 6*( \\tau_{xy}^{2} + \\tau_{yz}^{2} + \\tau_{zx}^{2} )  }{2}} $$"
   ]
  },
  {
   "cell_type": "code",
   "execution_count": 4,
   "id": "42d9883f",
   "metadata": {},
   "outputs": [],
   "source": [
    "from numpy import *"
   ]
  },
  {
   "cell_type": "code",
   "execution_count": 7,
   "id": "ab2d6f3a",
   "metadata": {},
   "outputs": [],
   "source": [
    "def equivalent_vm(𝜎x, 𝜎y, 𝜎z, 𝜏xy, 𝜏yz, 𝜏zx):\n",
    "    return sqrt( ( ( 𝜎x - 𝜎y )**2 + ( 𝜎y - 𝜎z )**2 + ( 𝜎z - 𝜎x )**2 + 6*( 𝜏xy**2 + 𝜏yz**2 + 𝜏zx**2 ) ) / 2 )"
   ]
  },
  {
   "cell_type": "markdown",
   "id": "089f0f15",
   "metadata": {},
   "source": [
    "# ![Example 1](img/example_1.png)"
   ]
  },
  {
   "cell_type": "code",
   "execution_count": 11,
   "id": "ab3d28de",
   "metadata": {},
   "outputs": [
    {
     "data": {
      "text/plain": [
       "58.3095"
      ]
     },
     "execution_count": 11,
     "metadata": {},
     "output_type": "execute_result"
    }
   ],
   "source": [
    "𝜎 = round(equivalent_vm(20, -40, 10, 10, 0, 0), 4)  #mPa\n",
    "𝜎"
   ]
  },
  {
   "cell_type": "markdown",
   "id": "9ba25e29",
   "metadata": {},
   "source": [
    "$$ \\eta = \\frac{S_{y}}{\\sigma_{'}} $$"
   ]
  },
  {
   "cell_type": "code",
   "execution_count": 12,
   "id": "8d5a6cf8",
   "metadata": {},
   "outputs": [
    {
     "data": {
      "text/plain": [
       "1.29"
      ]
     },
     "execution_count": 12,
     "metadata": {},
     "output_type": "execute_result"
    }
   ],
   "source": [
    "𝜂 = round(75/𝜎, 2)\n",
    "𝜂"
   ]
  },
  {
   "cell_type": "markdown",
   "id": "2bcd52f8",
   "metadata": {},
   "source": [
    "# ![Example 2](img/example_2.png)"
   ]
  },
  {
   "cell_type": "code",
   "execution_count": 39,
   "id": "85c03174",
   "metadata": {},
   "outputs": [],
   "source": [
    "T = 100 #lbf*in\n",
    "P = 250 #lbf\n",
    "F = 25 #lbf\n",
    "d = 0.5 #in\n",
    "l = 20 #in\n",
    "Sy = 70 #ksi "
   ]
  },
  {
   "cell_type": "code",
   "execution_count": 40,
   "id": "2e944283",
   "metadata": {},
   "outputs": [
    {
     "data": {
      "text/plain": [
       "-1.2736"
      ]
     },
     "execution_count": 40,
     "metadata": {},
     "output_type": "execute_result"
    }
   ],
   "source": [
    "A = round(pi*(d/2)**2, 4) #in**2\n",
    "𝜎n = round(-P/(1000*A), 4)  #ksi\n",
    "𝜎n"
   ]
  },
  {
   "cell_type": "code",
   "execution_count": 41,
   "id": "57b152de",
   "metadata": {},
   "outputs": [
    {
     "data": {
      "text/plain": [
       "-40.7437"
      ]
     },
     "execution_count": 41,
     "metadata": {},
     "output_type": "execute_result"
    }
   ],
   "source": [
    "I = (pi*d**4)/64\n",
    "𝜎m = round(-F*l*(d/2)/(1000*I), 4) #ksi\n",
    "𝜎m"
   ]
  },
  {
   "cell_type": "code",
   "execution_count": 42,
   "id": "33398791",
   "metadata": {},
   "outputs": [
    {
     "data": {
      "text/plain": [
       "-42.0173"
      ]
     },
     "execution_count": 42,
     "metadata": {},
     "output_type": "execute_result"
    }
   ],
   "source": [
    "𝜎x = 𝜎n + 𝜎m\n",
    "𝜎x"
   ]
  },
  {
   "cell_type": "code",
   "execution_count": 43,
   "id": "7b63034b",
   "metadata": {},
   "outputs": [
    {
     "data": {
      "text/plain": [
       "-4.0744"
      ]
     },
     "execution_count": 43,
     "metadata": {},
     "output_type": "execute_result"
    }
   ],
   "source": [
    "c = d/2\n",
    "J = (pi*d**4)/32\n",
    "𝜏yz = round(-T*c/(1000*J), 4)\n",
    "𝜏yz"
   ]
  },
  {
   "cell_type": "code",
   "execution_count": 44,
   "id": "03b5340c",
   "metadata": {},
   "outputs": [
    {
     "data": {
      "text/plain": [
       "42.6058"
      ]
     },
     "execution_count": 44,
     "metadata": {},
     "output_type": "execute_result"
    }
   ],
   "source": [
    "𝜎 = round(equivalent_vm(𝜎x, 0, 0, 0, 𝜏yz, 0), 4)  #mPa\n",
    "𝜎"
   ]
  },
  {
   "cell_type": "code",
   "execution_count": 45,
   "id": "8846a90a",
   "metadata": {},
   "outputs": [
    {
     "data": {
      "text/plain": [
       "1.64"
      ]
     },
     "execution_count": 45,
     "metadata": {},
     "output_type": "execute_result"
    }
   ],
   "source": [
    "𝜂 = round(Sy/𝜎, 2)\n",
    "𝜂"
   ]
  },
  {
   "cell_type": "code",
   "execution_count": null,
   "id": "8ab48d18",
   "metadata": {},
   "outputs": [],
   "source": []
  }
 ],
 "metadata": {
  "kernelspec": {
   "display_name": "Python 3 (ipykernel)",
   "language": "python",
   "name": "python3"
  },
  "language_info": {
   "codemirror_mode": {
    "name": "ipython",
    "version": 3
   },
   "file_extension": ".py",
   "mimetype": "text/x-python",
   "name": "python",
   "nbconvert_exporter": "python",
   "pygments_lexer": "ipython3",
   "version": "3.9.7"
  }
 },
 "nbformat": 4,
 "nbformat_minor": 5
}
